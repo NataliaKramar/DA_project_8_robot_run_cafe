{
 "cells": [
  {
   "cell_type": "markdown",
   "metadata": {},
   "source": [
    "## Project description\n",
    "\n",
    "The goal of the project is to prepare market research based on open-source data on restaurants in LA for future investors, which is planned to attract, for opening a small robot-run cafe in Los Angeles. This cafe is promising but expensive. Investors are interested in the current market conditions—is it possible to maintain success when the novelty of robot waiters wears off?"
   ]
  },
  {
   "cell_type": "markdown",
   "metadata": {},
   "source": [
    "## Table of contents"
   ]
  },
  {
   "cell_type": "markdown",
   "metadata": {},
   "source": [
    "- [**STEP 1. General information and preprocessing data**](#first-step)\n",
    "- [**STEP 2. Data analysis**](#second-step)\n",
    "    - [2.1. Investigate the proportions of the various types of establishments. Plot a graph.](#types-proportions) \n",
    "    - [2.2. Investigate the proportions of chain and nonchain establishments. Plot a graph.](#chain-proportions) \n",
    "    - [2.3. Which type of establishment is typically a chain?](#chain-type)\n",
    "    - [2.4. What characterizes chains: many establishments with a small number of seats or a few establishments with a lot of seats?](#characterize-of-chains)\n",
    "    - [2.5. Determine the average number of seats for each type of restaurant. On average, which type of restaurant has the greatest number of seats? Plot graphs.¶](#average-number-of-seats) \n",
    "    - [2.6. Put the data on street names from the address column in a separate column.](#street-names)\n",
    "    - [2.7. Plot a graph of the top ten streets by number of restaurants.](#top-ten-streets)\n",
    "    - [2.8. Find the number of streets that only have one restaurant.](#one-restaurant)\n",
    "    - [2.9. For streets with a lot of restaurants, look at the distribution of the number of seats. What trends can you see?](#distribution-of-seats)\n",
    "- [**STEP 3. General conclusion**](#third-step)"
   ]
  },
  {
   "cell_type": "markdown",
   "metadata": {},
   "source": [
    "## Step 1. General information and preparing the data <a id=\"first-step\"></a>"
   ]
  },
  {
   "cell_type": "code",
   "execution_count": 1,
   "metadata": {},
   "outputs": [],
   "source": [
    "import pandas as pd\n",
    "import matplotlib.pyplot as plt\n",
    "import numpy as np\n",
    "import plotly.express as px\n",
    "import seaborn as sns\n"
   ]
  },
  {
   "cell_type": "code",
   "execution_count": 2,
   "metadata": {},
   "outputs": [
    {
     "data": {
      "text/html": [
       "<div>\n",
       "<style scoped>\n",
       "    .dataframe tbody tr th:only-of-type {\n",
       "        vertical-align: middle;\n",
       "    }\n",
       "\n",
       "    .dataframe tbody tr th {\n",
       "        vertical-align: top;\n",
       "    }\n",
       "\n",
       "    .dataframe thead th {\n",
       "        text-align: right;\n",
       "    }\n",
       "</style>\n",
       "<table border=\"1\" class=\"dataframe\">\n",
       "  <thead>\n",
       "    <tr style=\"text-align: right;\">\n",
       "      <th></th>\n",
       "      <th>id</th>\n",
       "      <th>object_name</th>\n",
       "      <th>address</th>\n",
       "      <th>chain</th>\n",
       "      <th>object_type</th>\n",
       "      <th>number</th>\n",
       "    </tr>\n",
       "  </thead>\n",
       "  <tbody>\n",
       "    <tr>\n",
       "      <td>0</td>\n",
       "      <td>11786</td>\n",
       "      <td>HABITAT COFFEE SHOP</td>\n",
       "      <td>3708 N EAGLE ROCK BLVD</td>\n",
       "      <td>False</td>\n",
       "      <td>Cafe</td>\n",
       "      <td>26</td>\n",
       "    </tr>\n",
       "    <tr>\n",
       "      <td>1</td>\n",
       "      <td>11787</td>\n",
       "      <td>REILLY'S</td>\n",
       "      <td>100 WORLD WAY # 120</td>\n",
       "      <td>False</td>\n",
       "      <td>Restaurant</td>\n",
       "      <td>9</td>\n",
       "    </tr>\n",
       "    <tr>\n",
       "      <td>2</td>\n",
       "      <td>11788</td>\n",
       "      <td>STREET CHURROS</td>\n",
       "      <td>6801 HOLLYWOOD BLVD # 253</td>\n",
       "      <td>False</td>\n",
       "      <td>Fast Food</td>\n",
       "      <td>20</td>\n",
       "    </tr>\n",
       "    <tr>\n",
       "      <td>3</td>\n",
       "      <td>11789</td>\n",
       "      <td>TRINITI ECHO PARK</td>\n",
       "      <td>1814 W SUNSET BLVD</td>\n",
       "      <td>False</td>\n",
       "      <td>Restaurant</td>\n",
       "      <td>22</td>\n",
       "    </tr>\n",
       "    <tr>\n",
       "      <td>4</td>\n",
       "      <td>11790</td>\n",
       "      <td>POLLEN</td>\n",
       "      <td>2100 ECHO PARK AVE</td>\n",
       "      <td>False</td>\n",
       "      <td>Restaurant</td>\n",
       "      <td>20</td>\n",
       "    </tr>\n",
       "    <tr>\n",
       "      <td>5</td>\n",
       "      <td>11791</td>\n",
       "      <td>THE SPOT GRILL</td>\n",
       "      <td>10004 NATIONAL BLVD</td>\n",
       "      <td>False</td>\n",
       "      <td>Restaurant</td>\n",
       "      <td>14</td>\n",
       "    </tr>\n",
       "    <tr>\n",
       "      <td>6</td>\n",
       "      <td>11792</td>\n",
       "      <td>CPK</td>\n",
       "      <td>100 WORLD WAY # 126</td>\n",
       "      <td>False</td>\n",
       "      <td>Restaurant</td>\n",
       "      <td>100</td>\n",
       "    </tr>\n",
       "    <tr>\n",
       "      <td>7</td>\n",
       "      <td>11793</td>\n",
       "      <td>PHO LALA</td>\n",
       "      <td>3500 W 6TH ST STE 226</td>\n",
       "      <td>False</td>\n",
       "      <td>Restaurant</td>\n",
       "      <td>7</td>\n",
       "    </tr>\n",
       "    <tr>\n",
       "      <td>8</td>\n",
       "      <td>11794</td>\n",
       "      <td>ABC DONUTS</td>\n",
       "      <td>3027 N SAN FERNANDO RD UNIT 103</td>\n",
       "      <td>True</td>\n",
       "      <td>Fast Food</td>\n",
       "      <td>1</td>\n",
       "    </tr>\n",
       "    <tr>\n",
       "      <td>9</td>\n",
       "      <td>11795</td>\n",
       "      <td>UPSTAIRS</td>\n",
       "      <td>3707 N CAHUENGA BLVD</td>\n",
       "      <td>False</td>\n",
       "      <td>Restaurant</td>\n",
       "      <td>35</td>\n",
       "    </tr>\n",
       "  </tbody>\n",
       "</table>\n",
       "</div>"
      ],
      "text/plain": [
       "      id          object_name                          address  chain  \\\n",
       "0  11786  HABITAT COFFEE SHOP           3708 N EAGLE ROCK BLVD  False   \n",
       "1  11787             REILLY'S              100 WORLD WAY # 120  False   \n",
       "2  11788       STREET CHURROS        6801 HOLLYWOOD BLVD # 253  False   \n",
       "3  11789    TRINITI ECHO PARK               1814 W SUNSET BLVD  False   \n",
       "4  11790               POLLEN               2100 ECHO PARK AVE  False   \n",
       "5  11791       THE SPOT GRILL              10004 NATIONAL BLVD  False   \n",
       "6  11792                  CPK              100 WORLD WAY # 126  False   \n",
       "7  11793             PHO LALA            3500 W 6TH ST STE 226  False   \n",
       "8  11794           ABC DONUTS  3027 N SAN FERNANDO RD UNIT 103   True   \n",
       "9  11795             UPSTAIRS             3707 N CAHUENGA BLVD  False   \n",
       "\n",
       "  object_type  number  \n",
       "0        Cafe      26  \n",
       "1  Restaurant       9  \n",
       "2   Fast Food      20  \n",
       "3  Restaurant      22  \n",
       "4  Restaurant      20  \n",
       "5  Restaurant      14  \n",
       "6  Restaurant     100  \n",
       "7  Restaurant       7  \n",
       "8   Fast Food       1  \n",
       "9  Restaurant      35  "
      ]
     },
     "execution_count": 2,
     "metadata": {},
     "output_type": "execute_result"
    }
   ],
   "source": [
    "#reading the data\n",
    "rest_data = pd.read_csv('rest_data_us.csv')\n",
    "rest_data.head(10)"
   ]
  },
  {
   "cell_type": "code",
   "execution_count": 3,
   "metadata": {
    "scrolled": true
   },
   "outputs": [
    {
     "name": "stdout",
     "output_type": "stream",
     "text": [
      "<class 'pandas.core.frame.DataFrame'>\n",
      "RangeIndex: 9651 entries, 0 to 9650\n",
      "Data columns (total 6 columns):\n",
      "id             9651 non-null int64\n",
      "object_name    9651 non-null object\n",
      "address        9651 non-null object\n",
      "chain          9648 non-null object\n",
      "object_type    9651 non-null object\n",
      "number         9651 non-null int64\n",
      "dtypes: int64(2), object(4)\n",
      "memory usage: 452.5+ KB\n"
     ]
    }
   ],
   "source": [
    "#general information about data\n",
    "rest_data.info()"
   ]
  },
  {
   "cell_type": "code",
   "execution_count": 4,
   "metadata": {
    "scrolled": true
   },
   "outputs": [
    {
     "data": {
      "text/plain": [
       "id             0\n",
       "object_name    0\n",
       "address        0\n",
       "chain          3\n",
       "object_type    0\n",
       "number         0\n",
       "dtype: int64"
      ]
     },
     "execution_count": 4,
     "metadata": {},
     "output_type": "execute_result"
    }
   ],
   "source": [
    "#counting missing values\n",
    "pd.isnull(rest_data).sum()"
   ]
  },
  {
   "cell_type": "markdown",
   "metadata": {},
   "source": [
    "According to the general information about data there are missing values in column \"chain\" (only three values are absent) and format of the column \"chain\" shoud be converted to boolean. "
   ]
  },
  {
   "cell_type": "code",
   "execution_count": 5,
   "metadata": {
    "scrolled": true
   },
   "outputs": [
    {
     "data": {
      "text/html": [
       "<div>\n",
       "<style scoped>\n",
       "    .dataframe tbody tr th:only-of-type {\n",
       "        vertical-align: middle;\n",
       "    }\n",
       "\n",
       "    .dataframe tbody tr th {\n",
       "        vertical-align: top;\n",
       "    }\n",
       "\n",
       "    .dataframe thead th {\n",
       "        text-align: right;\n",
       "    }\n",
       "</style>\n",
       "<table border=\"1\" class=\"dataframe\">\n",
       "  <thead>\n",
       "    <tr style=\"text-align: right;\">\n",
       "      <th></th>\n",
       "      <th>id</th>\n",
       "      <th>object_name</th>\n",
       "      <th>address</th>\n",
       "      <th>chain</th>\n",
       "      <th>object_type</th>\n",
       "      <th>number</th>\n",
       "    </tr>\n",
       "  </thead>\n",
       "  <tbody>\n",
       "    <tr>\n",
       "      <td>7408</td>\n",
       "      <td>19194</td>\n",
       "      <td>TAQUERIA LOS 3 CARNALES</td>\n",
       "      <td>5000 E WHITTIER BLVD</td>\n",
       "      <td>NaN</td>\n",
       "      <td>Restaurant</td>\n",
       "      <td>14</td>\n",
       "    </tr>\n",
       "    <tr>\n",
       "      <td>7523</td>\n",
       "      <td>19309</td>\n",
       "      <td>JAMMIN JIMMY'S PIZZA</td>\n",
       "      <td>1641 FIRESTONE BLVD</td>\n",
       "      <td>NaN</td>\n",
       "      <td>Pizza</td>\n",
       "      <td>1</td>\n",
       "    </tr>\n",
       "    <tr>\n",
       "      <td>8648</td>\n",
       "      <td>20434</td>\n",
       "      <td>THE LEXINGTON THEATER</td>\n",
       "      <td>129 E 3RD ST</td>\n",
       "      <td>NaN</td>\n",
       "      <td>Restaurant</td>\n",
       "      <td>35</td>\n",
       "    </tr>\n",
       "  </tbody>\n",
       "</table>\n",
       "</div>"
      ],
      "text/plain": [
       "         id              object_name               address chain object_type  \\\n",
       "7408  19194  TAQUERIA LOS 3 CARNALES  5000 E WHITTIER BLVD   NaN  Restaurant   \n",
       "7523  19309     JAMMIN JIMMY'S PIZZA   1641 FIRESTONE BLVD   NaN       Pizza   \n",
       "8648  20434    THE LEXINGTON THEATER          129 E 3RD ST   NaN  Restaurant   \n",
       "\n",
       "      number  \n",
       "7408      14  \n",
       "7523       1  \n",
       "8648      35  "
      ]
     },
     "execution_count": 5,
     "metadata": {},
     "output_type": "execute_result"
    }
   ],
   "source": [
    "#displayng rows with missing\n",
    "rest_data[rest_data.isna().any(axis=1)]"
   ]
  },
  {
   "cell_type": "markdown",
   "metadata": {},
   "source": [
    "We did not find duplicate names for these restaurants, also if seek it in Google restaurants seems like single ones, so we can conclude that they are not chain restaurants and fill in the chain column with False."
   ]
  },
  {
   "cell_type": "code",
   "execution_count": 6,
   "metadata": {},
   "outputs": [
    {
     "name": "stdout",
     "output_type": "stream",
     "text": [
      "<class 'pandas.core.frame.DataFrame'>\n",
      "RangeIndex: 9651 entries, 0 to 9650\n",
      "Data columns (total 6 columns):\n",
      "id             9651 non-null int64\n",
      "object_name    9651 non-null object\n",
      "address        9651 non-null object\n",
      "chain          9651 non-null bool\n",
      "object_type    9651 non-null object\n",
      "number         9651 non-null int64\n",
      "dtypes: bool(1), int64(2), object(3)\n",
      "memory usage: 386.5+ KB\n"
     ]
    }
   ],
   "source": [
    "#filling missing values\n",
    "rest_data['chain'] = rest_data['chain'].fillna(value='False')\n",
    "#converting the format from object to boolean\n",
    "rest_data['chain'] = rest_data['chain'].astype(bool)\n",
    "rest_data.info()"
   ]
  },
  {
   "cell_type": "code",
   "execution_count": 7,
   "metadata": {},
   "outputs": [
    {
     "data": {
      "text/plain": [
       "979"
      ]
     },
     "execution_count": 7,
     "metadata": {},
     "output_type": "execute_result"
    }
   ],
   "source": [
    "# finding duplicates by the column \"object_name\"\n",
    "rest_data['object_name'].duplicated().sum()"
   ]
  },
  {
   "cell_type": "code",
   "execution_count": 8,
   "metadata": {},
   "outputs": [
    {
     "data": {
      "text/plain": [
       "THE COFFEE BEAN & TEA LEAF    47\n",
       "SUBWAY                        31\n",
       "DOMINO'S PIZZA                15\n",
       "KENTUCKY FRIED CHICKEN        14\n",
       "WABA GRILL                    14\n",
       "TRIMANA                       13\n",
       "MCDONALD'S                    13\n",
       "YOGURTLAND                    12\n",
       "PAPA JOHN'S PIZZA             12\n",
       "HONG KONG EXPRESS             12\n",
       "Name: object_name, dtype: int64"
      ]
     },
     "execution_count": 8,
     "metadata": {},
     "output_type": "execute_result"
    }
   ],
   "source": [
    "rest_data['object_name'].value_counts().head(10)"
   ]
  },
  {
   "cell_type": "code",
   "execution_count": 9,
   "metadata": {},
   "outputs": [
    {
     "data": {
      "text/plain": [
       "0"
      ]
     },
     "execution_count": 9,
     "metadata": {},
     "output_type": "execute_result"
    }
   ],
   "source": [
    "#checking the duplicated numbers in column id\n",
    "rest_data['id'].duplicated().sum()"
   ]
  },
  {
   "cell_type": "markdown",
   "metadata": {},
   "source": [
    "There is no duplicated ids. And it seems that the number 979 shows chain restaurants, but not doubled data"
   ]
  },
  {
   "cell_type": "code",
   "execution_count": 10,
   "metadata": {},
   "outputs": [
    {
     "data": {
      "text/plain": [
       "1134"
      ]
     },
     "execution_count": 10,
     "metadata": {},
     "output_type": "execute_result"
    }
   ],
   "source": [
    "#counting the amount of duplicate addresses\n",
    "rest_data.duplicated(subset=['address']).sum()"
   ]
  },
  {
   "cell_type": "code",
   "execution_count": 11,
   "metadata": {
    "scrolled": true
   },
   "outputs": [
    {
     "data": {
      "text/html": [
       "<div>\n",
       "<style scoped>\n",
       "    .dataframe tbody tr th:only-of-type {\n",
       "        vertical-align: middle;\n",
       "    }\n",
       "\n",
       "    .dataframe tbody tr th {\n",
       "        vertical-align: top;\n",
       "    }\n",
       "\n",
       "    .dataframe thead th {\n",
       "        text-align: right;\n",
       "    }\n",
       "</style>\n",
       "<table border=\"1\" class=\"dataframe\">\n",
       "  <thead>\n",
       "    <tr style=\"text-align: right;\">\n",
       "      <th></th>\n",
       "      <th>id</th>\n",
       "      <th>object_name</th>\n",
       "      <th>address</th>\n",
       "      <th>chain</th>\n",
       "      <th>object_type</th>\n",
       "      <th>number</th>\n",
       "    </tr>\n",
       "  </thead>\n",
       "  <tbody>\n",
       "    <tr>\n",
       "      <td>56</td>\n",
       "      <td>11842</td>\n",
       "      <td>LOTERIA GRILL SPACE 7C</td>\n",
       "      <td>700 WORLD WAY</td>\n",
       "      <td>False</td>\n",
       "      <td>Restaurant</td>\n",
       "      <td>17</td>\n",
       "    </tr>\n",
       "    <tr>\n",
       "      <td>62</td>\n",
       "      <td>11848</td>\n",
       "      <td>ROLLING STONE SPACE 7C</td>\n",
       "      <td>700 WORLD WAY</td>\n",
       "      <td>False</td>\n",
       "      <td>Restaurant</td>\n",
       "      <td>33</td>\n",
       "    </tr>\n",
       "    <tr>\n",
       "      <td>168</td>\n",
       "      <td>11954</td>\n",
       "      <td>HANNAM CHAIN SNACK BAR</td>\n",
       "      <td>2740 W OLYMPIC BLVD</td>\n",
       "      <td>False</td>\n",
       "      <td>Bar</td>\n",
       "      <td>20</td>\n",
       "    </tr>\n",
       "    <tr>\n",
       "      <td>170</td>\n",
       "      <td>11956</td>\n",
       "      <td>PEKING DUMPLING</td>\n",
       "      <td>2740 W OLYMPIC BLVD</td>\n",
       "      <td>False</td>\n",
       "      <td>Restaurant</td>\n",
       "      <td>8</td>\n",
       "    </tr>\n",
       "    <tr>\n",
       "      <td>283</td>\n",
       "      <td>12069</td>\n",
       "      <td>RALPHS MARKET #39</td>\n",
       "      <td>260 S LA BREA AVE</td>\n",
       "      <td>False</td>\n",
       "      <td>Restaurant</td>\n",
       "      <td>4</td>\n",
       "    </tr>\n",
       "    <tr>\n",
       "      <td>462</td>\n",
       "      <td>12248</td>\n",
       "      <td>TRADITIONS PUB</td>\n",
       "      <td>3607 TROUSDALE PKWY</td>\n",
       "      <td>False</td>\n",
       "      <td>Restaurant</td>\n",
       "      <td>197</td>\n",
       "    </tr>\n",
       "    <tr>\n",
       "      <td>469</td>\n",
       "      <td>12255</td>\n",
       "      <td>ROOFTOP CABANA @ MAMA SHELTER</td>\n",
       "      <td>6500 SELMA AVE</td>\n",
       "      <td>False</td>\n",
       "      <td>Restaurant</td>\n",
       "      <td>145</td>\n",
       "    </tr>\n",
       "    <tr>\n",
       "      <td>480</td>\n",
       "      <td>12266</td>\n",
       "      <td>PANDA  EXPRESS</td>\n",
       "      <td>3607 TROUSDALE PKWY</td>\n",
       "      <td>False</td>\n",
       "      <td>Fast Food</td>\n",
       "      <td>40</td>\n",
       "    </tr>\n",
       "    <tr>\n",
       "      <td>576</td>\n",
       "      <td>12362</td>\n",
       "      <td>JONATHAN CLUB-BAKE SHOP</td>\n",
       "      <td>545 S FIGUEROA ST</td>\n",
       "      <td>False</td>\n",
       "      <td>Restaurant</td>\n",
       "      <td>5</td>\n",
       "    </tr>\n",
       "    <tr>\n",
       "      <td>579</td>\n",
       "      <td>12365</td>\n",
       "      <td>JONATHAN CLUB CAPE CODE</td>\n",
       "      <td>545 S FIGUEROA ST</td>\n",
       "      <td>False</td>\n",
       "      <td>Restaurant</td>\n",
       "      <td>64</td>\n",
       "    </tr>\n",
       "    <tr>\n",
       "      <td>581</td>\n",
       "      <td>12367</td>\n",
       "      <td>EMPLOYEE CAFETERIA</td>\n",
       "      <td>545 S FIGUEROA ST</td>\n",
       "      <td>True</td>\n",
       "      <td>Restaurant</td>\n",
       "      <td>33</td>\n",
       "    </tr>\n",
       "    <tr>\n",
       "      <td>600</td>\n",
       "      <td>12386</td>\n",
       "      <td>PEET'S COFFEE ANGEL CITY</td>\n",
       "      <td>300 WORLD WAY</td>\n",
       "      <td>True</td>\n",
       "      <td>Cafe</td>\n",
       "      <td>33</td>\n",
       "    </tr>\n",
       "    <tr>\n",
       "      <td>607</td>\n",
       "      <td>12393</td>\n",
       "      <td>BLUE WINDOW</td>\n",
       "      <td>300 WORLD WAY</td>\n",
       "      <td>False</td>\n",
       "      <td>Restaurant</td>\n",
       "      <td>41</td>\n",
       "    </tr>\n",
       "    <tr>\n",
       "      <td>667</td>\n",
       "      <td>12453</td>\n",
       "      <td>DOME THEATRE</td>\n",
       "      <td>6360 W SUNSET BLVD</td>\n",
       "      <td>False</td>\n",
       "      <td>Restaurant</td>\n",
       "      <td>15</td>\n",
       "    </tr>\n",
       "    <tr>\n",
       "      <td>673</td>\n",
       "      <td>12459</td>\n",
       "      <td>LEVEL I CONCESSION</td>\n",
       "      <td>6360 W SUNSET BLVD</td>\n",
       "      <td>False</td>\n",
       "      <td>Restaurant</td>\n",
       "      <td>3</td>\n",
       "    </tr>\n",
       "    <tr>\n",
       "      <td>686</td>\n",
       "      <td>12472</td>\n",
       "      <td>LEVEL II CONCEPSSION</td>\n",
       "      <td>6360 W SUNSET BLVD</td>\n",
       "      <td>False</td>\n",
       "      <td>Restaurant</td>\n",
       "      <td>9</td>\n",
       "    </tr>\n",
       "    <tr>\n",
       "      <td>687</td>\n",
       "      <td>12473</td>\n",
       "      <td>MOE'S CAFE</td>\n",
       "      <td>10201 W PICO BLVD</td>\n",
       "      <td>False</td>\n",
       "      <td>Restaurant</td>\n",
       "      <td>115</td>\n",
       "    </tr>\n",
       "    <tr>\n",
       "      <td>689</td>\n",
       "      <td>12475</td>\n",
       "      <td>UPSTAIRS BAR</td>\n",
       "      <td>6360 W SUNSET BLVD</td>\n",
       "      <td>False</td>\n",
       "      <td>Bar</td>\n",
       "      <td>99</td>\n",
       "    </tr>\n",
       "    <tr>\n",
       "      <td>727</td>\n",
       "      <td>12513</td>\n",
       "      <td>KENTUCKY FRIED CHICKEN</td>\n",
       "      <td>708 S BROADWAY</td>\n",
       "      <td>True</td>\n",
       "      <td>Fast Food</td>\n",
       "      <td>104</td>\n",
       "    </tr>\n",
       "    <tr>\n",
       "      <td>756</td>\n",
       "      <td>12542</td>\n",
       "      <td>ZEIDLERS CAFE</td>\n",
       "      <td>2701 N SEPULVEDA BLVD</td>\n",
       "      <td>False</td>\n",
       "      <td>Restaurant</td>\n",
       "      <td>69</td>\n",
       "    </tr>\n",
       "  </tbody>\n",
       "</table>\n",
       "</div>"
      ],
      "text/plain": [
       "        id                    object_name                address  chain  \\\n",
       "56   11842         LOTERIA GRILL SPACE 7C          700 WORLD WAY  False   \n",
       "62   11848         ROLLING STONE SPACE 7C          700 WORLD WAY  False   \n",
       "168  11954         HANNAM CHAIN SNACK BAR    2740 W OLYMPIC BLVD  False   \n",
       "170  11956                PEKING DUMPLING    2740 W OLYMPIC BLVD  False   \n",
       "283  12069              RALPHS MARKET #39      260 S LA BREA AVE  False   \n",
       "462  12248                 TRADITIONS PUB    3607 TROUSDALE PKWY  False   \n",
       "469  12255  ROOFTOP CABANA @ MAMA SHELTER         6500 SELMA AVE  False   \n",
       "480  12266                 PANDA  EXPRESS    3607 TROUSDALE PKWY  False   \n",
       "576  12362        JONATHAN CLUB-BAKE SHOP      545 S FIGUEROA ST  False   \n",
       "579  12365        JONATHAN CLUB CAPE CODE      545 S FIGUEROA ST  False   \n",
       "581  12367             EMPLOYEE CAFETERIA      545 S FIGUEROA ST   True   \n",
       "600  12386       PEET'S COFFEE ANGEL CITY          300 WORLD WAY   True   \n",
       "607  12393                    BLUE WINDOW          300 WORLD WAY  False   \n",
       "667  12453                   DOME THEATRE     6360 W SUNSET BLVD  False   \n",
       "673  12459             LEVEL I CONCESSION     6360 W SUNSET BLVD  False   \n",
       "686  12472           LEVEL II CONCEPSSION     6360 W SUNSET BLVD  False   \n",
       "687  12473                     MOE'S CAFE      10201 W PICO BLVD  False   \n",
       "689  12475                   UPSTAIRS BAR     6360 W SUNSET BLVD  False   \n",
       "727  12513         KENTUCKY FRIED CHICKEN         708 S BROADWAY   True   \n",
       "756  12542                  ZEIDLERS CAFE  2701 N SEPULVEDA BLVD  False   \n",
       "\n",
       "    object_type  number  \n",
       "56   Restaurant      17  \n",
       "62   Restaurant      33  \n",
       "168         Bar      20  \n",
       "170  Restaurant       8  \n",
       "283  Restaurant       4  \n",
       "462  Restaurant     197  \n",
       "469  Restaurant     145  \n",
       "480   Fast Food      40  \n",
       "576  Restaurant       5  \n",
       "579  Restaurant      64  \n",
       "581  Restaurant      33  \n",
       "600        Cafe      33  \n",
       "607  Restaurant      41  \n",
       "667  Restaurant      15  \n",
       "673  Restaurant       3  \n",
       "686  Restaurant       9  \n",
       "687  Restaurant     115  \n",
       "689         Bar      99  \n",
       "727   Fast Food     104  \n",
       "756  Restaurant      69  "
      ]
     },
     "execution_count": 11,
     "metadata": {},
     "output_type": "execute_result"
    }
   ],
   "source": [
    "#displaying the rows with duplicated addresses\n",
    "rest_data[rest_data.duplicated(subset=['address'])].head(20)"
   ]
  },
  {
   "cell_type": "markdown",
   "metadata": {},
   "source": [
    "The data contains matching addresses, or rather streets, but there may be more than one restaurant on the same street."
   ]
  },
  {
   "cell_type": "markdown",
   "metadata": {},
   "source": [
    "**CONCLUSION**"
   ]
  },
  {
   "cell_type": "markdown",
   "metadata": {},
   "source": [
    "The dataframe consists of 6 columns and 9651 rows. There were found three missing values in column chain, which we filled with False. Also we converted the format of this column to boolean."
   ]
  },
  {
   "cell_type": "markdown",
   "metadata": {},
   "source": [
    "## Step 2. Data analysis <a id=\"second-step\"></a>\n"
   ]
  },
  {
   "cell_type": "markdown",
   "metadata": {},
   "source": [
    "### 2.1. Investigate the proportions of the various types of establishments. Plot a graph. <a id=\"second-step\"></a>"
   ]
  },
  {
   "cell_type": "code",
   "execution_count": 12,
   "metadata": {},
   "outputs": [
    {
     "data": {
      "text/plain": [
       "object_type\n",
       "Bakery         283\n",
       "Bar            292\n",
       "Pizza          320\n",
       "Cafe           435\n",
       "Fast Food     1066\n",
       "Restaurant    7255\n",
       "Name: id, dtype: int64"
      ]
     },
     "execution_count": 12,
     "metadata": {},
     "output_type": "execute_result"
    }
   ],
   "source": [
    "#counting the amount of establishments by type\n",
    "rest_data.groupby('object_type')['id'].count().sort_values()"
   ]
  },
  {
   "cell_type": "code",
   "execution_count": 13,
   "metadata": {
    "scrolled": true
   },
   "outputs": [
    {
     "data": {
      "image/png": "[encoded data removed]",
      "text/plain": [
       "<Figure size 432x288 with 1 Axes>"
      ]
     },
     "metadata": {
      "needs_background": "light"
     },
     "output_type": "display_data"
    }
   ],
   "source": [
    "#ploting bar chart\n",
    "ax = rest_data.groupby('object_type')['id'].count().sort_values(ascending=False).plot(kind='bar', title='Bar chart of establishments\\' type')\n",
    "\n",
    "# create a list to collect the plt.patches data\n",
    "totals = []\n",
    "\n",
    "#find the values and append to list\n",
    "for i in ax.patches:\n",
    "    totals.append(i.get_height())\n",
    "\n",
    "# set individual bar lables using above list\n",
    "total = sum(totals)\n",
    "\n",
    "# set individual bar lables using above list\n",
    "for i in ax.patches:\n",
    "    # get_x pulls left or right; get_height pushes up or down\n",
    "    ax.text(i.get_x()-.03, i.get_height()+.5, \\\n",
    "            str(int(i.get_height())), fontsize=14,\n",
    "                color='black')\n",
    "    \n",
    "plt.ylabel('amount')\n",
    "plt.show()"
   ]
  },
  {
   "cell_type": "code",
   "execution_count": 14,
   "metadata": {
    "scrolled": false
   },
   "outputs": [
    {
     "data": {
      "image/png": "[encoded data removed]",
      "text/plain": [
       "<Figure size 720x432 with 1 Axes>"
      ]
     },
     "metadata": {},
     "output_type": "display_data"
    }
   ],
   "source": [
    "rest_data_object_types_pie = rest_data.groupby('object_type')['id'].count().sort_values()\n",
    "#plotting pie chart\n",
    "pie, ax = plt.subplots(figsize=[10,6])\n",
    "labels = rest_data_object_types_pie.keys()\n",
    "plt.pie(x=rest_data_object_types_pie, autopct=\"%.1f%%\", explode=[0.05]*6, labels=labels, pctdistance=0.5)\n",
    "plt.title(\"Types of establishments\", fontsize=16);\n",
    "\n"
   ]
  },
  {
   "cell_type": "markdown",
   "metadata": {},
   "source": [
    "Huge part of all establisments belongs to restaurants - 75.2%. Other's parts vary from 3% to 11%."
   ]
  },
  {
   "cell_type": "markdown",
   "metadata": {},
   "source": [
    "The evidence that most of the establishments in Los Angeles are restaurants can be attributed to the fact that Los Angeles is considered the gastronomic capital of America. Fresh food, good weather, the ocean and the eminent audience in the face of Hollywood stars - all this makes the choice in favor of the restaurant."
   ]
  },
  {
   "cell_type": "markdown",
   "metadata": {},
   "source": [
    "### 2.2. Investigate the proportions of chain and nonchain establishments. Plot a graph. <a id=\"chain-proportions\"></a>"
   ]
  },
  {
   "cell_type": "code",
   "execution_count": 15,
   "metadata": {},
   "outputs": [
    {
     "data": {
      "text/plain": [
       "chain\n",
       "False    5972\n",
       "True     3679\n",
       "Name: id, dtype: int64"
      ]
     },
     "execution_count": 15,
     "metadata": {},
     "output_type": "execute_result"
    }
   ],
   "source": [
    "#finding the amount of chain and nonchain establishments\n",
    "rest_data_chain = rest_data.groupby('chain')['id'].count()\n",
    "rest_data_chain"
   ]
  },
  {
   "cell_type": "code",
   "execution_count": 16,
   "metadata": {},
   "outputs": [
    {
     "data": {
      "image/png": "[encoded data removed]",
      "text/plain": [
       "<Figure size 432x288 with 1 Axes>"
      ]
     },
     "metadata": {},
     "output_type": "display_data"
    }
   ],
   "source": [
    "# plotting pie chart\n",
    "labels = 'chain', 'nonchain'\n",
    "sizes = [3679, 5972]\n",
    "\n",
    "fig1, ax1 = plt.subplots()\n",
    "ax1.pie(sizes, labels=labels, autopct='%1.1f%%',\n",
    "        shadow=True, startangle=90)\n",
    "ax1.axis('equal')  \n",
    "plt.title('Pie chart of proportion of chain and nonchain establishments')\n",
    "plt.show()\n"
   ]
  },
  {
   "cell_type": "markdown",
   "metadata": {},
   "source": [
    "We can see that share of nonchain establishments is bigger than chain. It looks logicaly because on the previous step we found that the most establishments are restaurants"
   ]
  },
  {
   "cell_type": "markdown",
   "metadata": {},
   "source": [
    "Los Angeles is a unique city and perhaps every restaurant owner strives to create a unique establishment. Again, most likely Hollywood stars prefer gourmet restaurants over chain restaurants. "
   ]
  },
  {
   "cell_type": "markdown",
   "metadata": {},
   "source": [
    "### 2.3. Which type of establishment is typically a chain? <a id=\"chain-type\"></a>"
   ]
  },
  {
   "cell_type": "code",
   "execution_count": 17,
   "metadata": {
    "scrolled": true
   },
   "outputs": [
    {
     "data": {
      "text/plain": [
       "chain  object_type\n",
       "False  Bar             215\n",
       "       Cafe            169\n",
       "       Fast Food       461\n",
       "       Pizza           166\n",
       "       Restaurant     4961\n",
       "True   Bakery          283\n",
       "       Bar              77\n",
       "       Cafe            266\n",
       "       Fast Food       605\n",
       "       Pizza           154\n",
       "       Restaurant     2294\n",
       "Name: id, dtype: int64"
      ]
     },
     "execution_count": 17,
     "metadata": {},
     "output_type": "execute_result"
    }
   ],
   "source": [
    "#counting chain and nonchain establishments by type\n",
    "rest_data.groupby(['chain', 'object_type'])['id'].count()"
   ]
  },
  {
   "cell_type": "code",
   "execution_count": 18,
   "metadata": {},
   "outputs": [
    {
     "data": {
      "image/png": "[encoded data removed]",
      "text/plain": [
       "<Figure size 720x432 with 1 Axes>"
      ]
     },
     "metadata": {},
     "output_type": "display_data"
    },
    {
     "data": {
      "image/png": "[encoded data removed]",
      "text/plain": [
       "<Figure size 720x432 with 1 Axes>"
      ]
     },
     "metadata": {},
     "output_type": "display_data"
    }
   ],
   "source": [
    "rest_data_chain_object_types_pie = rest_data.query('chain == True').groupby('object_type')['id'].count().sort_values()\n",
    "#plotting pie chart\n",
    "pie, ax = plt.subplots(figsize=[10,6])\n",
    "labels = rest_data_chain_object_types_pie.keys()\n",
    "plt.pie(x=rest_data_chain_object_types_pie, autopct=\"%.1f%%\", explode=[0.05]*6, labels=labels, pctdistance=0.5)\n",
    "plt.title(\"Types of chain establishments\", fontsize=16);\n",
    "\n",
    "rest_data_nonchain_object_types_pie = rest_data.query('chain == False').groupby('object_type')['id'].count().sort_values()\n",
    "#plotting pie chart\n",
    "pie, ax = plt.subplots(figsize=[10,6])\n",
    "labels = rest_data_nonchain_object_types_pie.keys()\n",
    "plt.pie(x=rest_data_nonchain_object_types_pie, autopct=\"%.1f%%\", explode=[0.05]*5, labels=labels, pctdistance=0.5)\n",
    "plt.title(\"Types of non-chain establishments\", fontsize=16);"
   ]
  },
  {
   "cell_type": "markdown",
   "metadata": {},
   "source": [
    "We can see that in our data only bakery always is chain."
   ]
  },
  {
   "cell_type": "markdown",
   "metadata": {},
   "source": [
    "These pie charts confirm our previous findings that the majority of establishments are non-chain and these are restaurants. Restaurants make up 83.1% of all non-chain establishments. Among chain establishments, the share of restaurants is also high, but lower than among nonchain establishments, namely 62.4%. After restaurants, fast food accounts for a substantial share of chain establishments - 16.4%. All over the world there are a number of well-known and quite significant fast food chains such as McDonald's, Subway, Pizza Hut and others. At the same time, among non-chain establishments, fast food accounts for only 7.7%. Among chain and non-chain establishments with different proportions, but the first two places are confidently occupied by restaurants (1) and fast food (2). Further, the comparative order of establishments changes. Among the chain establishments alone, there are bakeries - 7.7%. After followed by cafes - 7.2% and a small percentage of pizzerias and bars. Сonsidering chain establishments, after fast food, bars, cafes and pizzerias follow, occupying an average share of 3%."
   ]
  },
  {
   "cell_type": "markdown",
   "metadata": {},
   "source": [
    "### 2.4. What characterizes chains: many establishments with a small number of seats or a few establishments with a lot of seats? <a id=\"characterize-of-chains\"></a>"
   ]
  },
  {
   "cell_type": "code",
   "execution_count": 19,
   "metadata": {
    "scrolled": true
   },
   "outputs": [
    {
     "data": {
      "text/html": [
       "<div>\n",
       "<style scoped>\n",
       "    .dataframe tbody tr th:only-of-type {\n",
       "        vertical-align: middle;\n",
       "    }\n",
       "\n",
       "    .dataframe tbody tr th {\n",
       "        vertical-align: top;\n",
       "    }\n",
       "\n",
       "    .dataframe thead th {\n",
       "        text-align: right;\n",
       "    }\n",
       "</style>\n",
       "<table border=\"1\" class=\"dataframe\">\n",
       "  <thead>\n",
       "    <tr style=\"text-align: right;\">\n",
       "      <th></th>\n",
       "      <th>id</th>\n",
       "      <th>object_name</th>\n",
       "      <th>address</th>\n",
       "      <th>chain</th>\n",
       "      <th>object_type</th>\n",
       "      <th>number</th>\n",
       "    </tr>\n",
       "  </thead>\n",
       "  <tbody>\n",
       "    <tr>\n",
       "      <td>0</td>\n",
       "      <td>11786</td>\n",
       "      <td>HABITAT COFFEE SHOP</td>\n",
       "      <td>3708 N EAGLE ROCK BLVD</td>\n",
       "      <td>False</td>\n",
       "      <td>Cafe</td>\n",
       "      <td>26</td>\n",
       "    </tr>\n",
       "    <tr>\n",
       "      <td>1</td>\n",
       "      <td>11787</td>\n",
       "      <td>REILLY'S</td>\n",
       "      <td>100 WORLD WAY # 120</td>\n",
       "      <td>False</td>\n",
       "      <td>Restaurant</td>\n",
       "      <td>9</td>\n",
       "    </tr>\n",
       "    <tr>\n",
       "      <td>2</td>\n",
       "      <td>11788</td>\n",
       "      <td>STREET CHURROS</td>\n",
       "      <td>6801 HOLLYWOOD BLVD # 253</td>\n",
       "      <td>False</td>\n",
       "      <td>Fast Food</td>\n",
       "      <td>20</td>\n",
       "    </tr>\n",
       "    <tr>\n",
       "      <td>3</td>\n",
       "      <td>11789</td>\n",
       "      <td>TRINITI ECHO PARK</td>\n",
       "      <td>1814 W SUNSET BLVD</td>\n",
       "      <td>False</td>\n",
       "      <td>Restaurant</td>\n",
       "      <td>22</td>\n",
       "    </tr>\n",
       "    <tr>\n",
       "      <td>4</td>\n",
       "      <td>11790</td>\n",
       "      <td>POLLEN</td>\n",
       "      <td>2100 ECHO PARK AVE</td>\n",
       "      <td>False</td>\n",
       "      <td>Restaurant</td>\n",
       "      <td>20</td>\n",
       "    </tr>\n",
       "  </tbody>\n",
       "</table>\n",
       "</div>"
      ],
      "text/plain": [
       "      id          object_name                    address  chain object_type  \\\n",
       "0  11786  HABITAT COFFEE SHOP     3708 N EAGLE ROCK BLVD  False        Cafe   \n",
       "1  11787             REILLY'S        100 WORLD WAY # 120  False  Restaurant   \n",
       "2  11788       STREET CHURROS  6801 HOLLYWOOD BLVD # 253  False   Fast Food   \n",
       "3  11789    TRINITI ECHO PARK         1814 W SUNSET BLVD  False  Restaurant   \n",
       "4  11790               POLLEN         2100 ECHO PARK AVE  False  Restaurant   \n",
       "\n",
       "   number  \n",
       "0      26  \n",
       "1       9  \n",
       "2      20  \n",
       "3      22  \n",
       "4      20  "
      ]
     },
     "execution_count": 19,
     "metadata": {},
     "output_type": "execute_result"
    }
   ],
   "source": [
    "rest_data.head()"
   ]
  },
  {
   "cell_type": "code",
   "execution_count": 20,
   "metadata": {
    "scrolled": true
   },
   "outputs": [
    {
     "data": {
      "text/html": [
       "<div>\n",
       "<style scoped>\n",
       "    .dataframe tbody tr th:only-of-type {\n",
       "        vertical-align: middle;\n",
       "    }\n",
       "\n",
       "    .dataframe tbody tr th {\n",
       "        vertical-align: top;\n",
       "    }\n",
       "\n",
       "    .dataframe thead th {\n",
       "        text-align: right;\n",
       "    }\n",
       "</style>\n",
       "<table border=\"1\" class=\"dataframe\">\n",
       "  <thead>\n",
       "    <tr style=\"text-align: right;\">\n",
       "      <th></th>\n",
       "      <th>id</th>\n",
       "      <th>number</th>\n",
       "    </tr>\n",
       "    <tr>\n",
       "      <th>object_name</th>\n",
       "      <th></th>\n",
       "      <th></th>\n",
       "    </tr>\n",
       "  </thead>\n",
       "  <tbody>\n",
       "    <tr>\n",
       "      <td>THE COFFEE BEAN &amp; TEA LEAF</td>\n",
       "      <td>47</td>\n",
       "      <td>26.723404</td>\n",
       "    </tr>\n",
       "    <tr>\n",
       "      <td>SUBWAY</td>\n",
       "      <td>31</td>\n",
       "      <td>16.419355</td>\n",
       "    </tr>\n",
       "    <tr>\n",
       "      <td>DOMINO'S PIZZA</td>\n",
       "      <td>15</td>\n",
       "      <td>12.333333</td>\n",
       "    </tr>\n",
       "    <tr>\n",
       "      <td>KENTUCKY FRIED CHICKEN</td>\n",
       "      <td>14</td>\n",
       "      <td>33.357143</td>\n",
       "    </tr>\n",
       "    <tr>\n",
       "      <td>WABA GRILL</td>\n",
       "      <td>14</td>\n",
       "      <td>42.857143</td>\n",
       "    </tr>\n",
       "    <tr>\n",
       "      <td>MCDONALD'S</td>\n",
       "      <td>13</td>\n",
       "      <td>96.846154</td>\n",
       "    </tr>\n",
       "    <tr>\n",
       "      <td>TRIMANA</td>\n",
       "      <td>13</td>\n",
       "      <td>43.461538</td>\n",
       "    </tr>\n",
       "    <tr>\n",
       "      <td>YOGURTLAND</td>\n",
       "      <td>12</td>\n",
       "      <td>16.416667</td>\n",
       "    </tr>\n",
       "    <tr>\n",
       "      <td>HONG KONG EXPRESS</td>\n",
       "      <td>12</td>\n",
       "      <td>18.583333</td>\n",
       "    </tr>\n",
       "    <tr>\n",
       "      <td>PAPA JOHN'S PIZZA</td>\n",
       "      <td>12</td>\n",
       "      <td>14.500000</td>\n",
       "    </tr>\n",
       "    <tr>\n",
       "      <td>STARBUCKS</td>\n",
       "      <td>12</td>\n",
       "      <td>18.000000</td>\n",
       "    </tr>\n",
       "    <tr>\n",
       "      <td>SUBWAY SANDWICHES</td>\n",
       "      <td>11</td>\n",
       "      <td>22.545455</td>\n",
       "    </tr>\n",
       "    <tr>\n",
       "      <td>LOUISIANA FRIED CHICKEN</td>\n",
       "      <td>10</td>\n",
       "      <td>9.900000</td>\n",
       "    </tr>\n",
       "    <tr>\n",
       "      <td>EL POLLO LOCO</td>\n",
       "      <td>10</td>\n",
       "      <td>63.600000</td>\n",
       "    </tr>\n",
       "    <tr>\n",
       "      <td>WINGSTOP</td>\n",
       "      <td>10</td>\n",
       "      <td>20.200000</td>\n",
       "    </tr>\n",
       "    <tr>\n",
       "      <td>CHIPOTLE MEXICAN GRILL</td>\n",
       "      <td>10</td>\n",
       "      <td>37.900000</td>\n",
       "    </tr>\n",
       "    <tr>\n",
       "      <td>KFC</td>\n",
       "      <td>9</td>\n",
       "      <td>42.555556</td>\n",
       "    </tr>\n",
       "    <tr>\n",
       "      <td>BLUE BOTTLE COFFEE</td>\n",
       "      <td>9</td>\n",
       "      <td>21.888889</td>\n",
       "    </tr>\n",
       "    <tr>\n",
       "      <td>JERSEY MIKE'S SUBS</td>\n",
       "      <td>8</td>\n",
       "      <td>25.375000</td>\n",
       "    </tr>\n",
       "    <tr>\n",
       "      <td>BASKIN ROBBINS</td>\n",
       "      <td>8</td>\n",
       "      <td>18.375000</td>\n",
       "    </tr>\n",
       "    <tr>\n",
       "      <td>CARL'S JR</td>\n",
       "      <td>8</td>\n",
       "      <td>65.875000</td>\n",
       "    </tr>\n",
       "    <tr>\n",
       "      <td>PINKBERRY</td>\n",
       "      <td>7</td>\n",
       "      <td>23.428571</td>\n",
       "    </tr>\n",
       "    <tr>\n",
       "      <td>CHINA EXPRESS</td>\n",
       "      <td>7</td>\n",
       "      <td>20.000000</td>\n",
       "    </tr>\n",
       "    <tr>\n",
       "      <td>TACO BELL</td>\n",
       "      <td>6</td>\n",
       "      <td>45.333333</td>\n",
       "    </tr>\n",
       "    <tr>\n",
       "      <td>WHOLE FOODS MARKET</td>\n",
       "      <td>6</td>\n",
       "      <td>24.166667</td>\n",
       "    </tr>\n",
       "    <tr>\n",
       "      <td>PANDA EXPRESS</td>\n",
       "      <td>6</td>\n",
       "      <td>41.666667</td>\n",
       "    </tr>\n",
       "    <tr>\n",
       "      <td>LA MONARCA BAKERY</td>\n",
       "      <td>6</td>\n",
       "      <td>24.000000</td>\n",
       "    </tr>\n",
       "    <tr>\n",
       "      <td>WETZEL'S PRETZELS</td>\n",
       "      <td>6</td>\n",
       "      <td>14.666667</td>\n",
       "    </tr>\n",
       "    <tr>\n",
       "      <td>CHINATOWN EXPRESS</td>\n",
       "      <td>6</td>\n",
       "      <td>14.500000</td>\n",
       "    </tr>\n",
       "    <tr>\n",
       "      <td>LITTLE CAESARS</td>\n",
       "      <td>6</td>\n",
       "      <td>13.666667</td>\n",
       "    </tr>\n",
       "    <tr>\n",
       "      <td>POLLO CAMPERO</td>\n",
       "      <td>6</td>\n",
       "      <td>106.000000</td>\n",
       "    </tr>\n",
       "    <tr>\n",
       "      <td>FATBURGER</td>\n",
       "      <td>6</td>\n",
       "      <td>21.666667</td>\n",
       "    </tr>\n",
       "    <tr>\n",
       "      <td>COFFEE BEAN AND TEA LEAF</td>\n",
       "      <td>5</td>\n",
       "      <td>18.200000</td>\n",
       "    </tr>\n",
       "    <tr>\n",
       "      <td>TENDER GREENS</td>\n",
       "      <td>5</td>\n",
       "      <td>110.600000</td>\n",
       "    </tr>\n",
       "    <tr>\n",
       "      <td>ONO HAWAIIAN BBQ</td>\n",
       "      <td>5</td>\n",
       "      <td>35.800000</td>\n",
       "    </tr>\n",
       "    <tr>\n",
       "      <td>LE PAIN QUOTIDIEN</td>\n",
       "      <td>5</td>\n",
       "      <td>65.400000</td>\n",
       "    </tr>\n",
       "    <tr>\n",
       "      <td>POPEYES CHICKEN</td>\n",
       "      <td>5</td>\n",
       "      <td>36.400000</td>\n",
       "    </tr>\n",
       "    <tr>\n",
       "      <td>EDIBLE ARRANGEMENTS</td>\n",
       "      <td>5</td>\n",
       "      <td>15.600000</td>\n",
       "    </tr>\n",
       "    <tr>\n",
       "      <td>SWEETFIN POKE</td>\n",
       "      <td>5</td>\n",
       "      <td>16.000000</td>\n",
       "    </tr>\n",
       "    <tr>\n",
       "      <td>CILANTRO FRESH MEXICAN GRILL</td>\n",
       "      <td>5</td>\n",
       "      <td>14.000000</td>\n",
       "    </tr>\n",
       "    <tr>\n",
       "      <td>BAJA FRESH</td>\n",
       "      <td>5</td>\n",
       "      <td>66.000000</td>\n",
       "    </tr>\n",
       "    <tr>\n",
       "      <td>MENDOCINO FARMS</td>\n",
       "      <td>5</td>\n",
       "      <td>32.800000</td>\n",
       "    </tr>\n",
       "    <tr>\n",
       "      <td>PARIS BAGUETTE</td>\n",
       "      <td>5</td>\n",
       "      <td>12.800000</td>\n",
       "    </tr>\n",
       "    <tr>\n",
       "      <td>HONG KONG BOWL</td>\n",
       "      <td>5</td>\n",
       "      <td>11.600000</td>\n",
       "    </tr>\n",
       "    <tr>\n",
       "      <td>JIMMY JOHN'S</td>\n",
       "      <td>5</td>\n",
       "      <td>22.400000</td>\n",
       "    </tr>\n",
       "    <tr>\n",
       "      <td>THE FLAME BROILER</td>\n",
       "      <td>5</td>\n",
       "      <td>29.400000</td>\n",
       "    </tr>\n",
       "    <tr>\n",
       "      <td>I LOVE BOBA</td>\n",
       "      <td>5</td>\n",
       "      <td>17.400000</td>\n",
       "    </tr>\n",
       "    <tr>\n",
       "      <td>JUICE CRAFTERS</td>\n",
       "      <td>4</td>\n",
       "      <td>20.750000</td>\n",
       "    </tr>\n",
       "    <tr>\n",
       "      <td>DONUT KING</td>\n",
       "      <td>4</td>\n",
       "      <td>21.500000</td>\n",
       "    </tr>\n",
       "    <tr>\n",
       "      <td>WETZELS PRETZELS</td>\n",
       "      <td>4</td>\n",
       "      <td>14.000000</td>\n",
       "    </tr>\n",
       "  </tbody>\n",
       "</table>\n",
       "</div>"
      ],
      "text/plain": [
       "                              id      number\n",
       "object_name                                 \n",
       "THE COFFEE BEAN & TEA LEAF    47   26.723404\n",
       "SUBWAY                        31   16.419355\n",
       "DOMINO'S PIZZA                15   12.333333\n",
       "KENTUCKY FRIED CHICKEN        14   33.357143\n",
       "WABA GRILL                    14   42.857143\n",
       "MCDONALD'S                    13   96.846154\n",
       "TRIMANA                       13   43.461538\n",
       "YOGURTLAND                    12   16.416667\n",
       "HONG KONG EXPRESS             12   18.583333\n",
       "PAPA JOHN'S PIZZA             12   14.500000\n",
       "STARBUCKS                     12   18.000000\n",
       "SUBWAY SANDWICHES             11   22.545455\n",
       "LOUISIANA FRIED CHICKEN       10    9.900000\n",
       "EL POLLO LOCO                 10   63.600000\n",
       "WINGSTOP                      10   20.200000\n",
       "CHIPOTLE MEXICAN GRILL        10   37.900000\n",
       "KFC                            9   42.555556\n",
       "BLUE BOTTLE COFFEE             9   21.888889\n",
       "JERSEY MIKE'S SUBS             8   25.375000\n",
       "BASKIN ROBBINS                 8   18.375000\n",
       "CARL'S JR                      8   65.875000\n",
       "PINKBERRY                      7   23.428571\n",
       "CHINA EXPRESS                  7   20.000000\n",
       "TACO BELL                      6   45.333333\n",
       "WHOLE FOODS MARKET             6   24.166667\n",
       "PANDA EXPRESS                  6   41.666667\n",
       "LA MONARCA BAKERY              6   24.000000\n",
       "WETZEL'S PRETZELS              6   14.666667\n",
       "CHINATOWN EXPRESS              6   14.500000\n",
       "LITTLE CAESARS                 6   13.666667\n",
       "POLLO CAMPERO                  6  106.000000\n",
       "FATBURGER                      6   21.666667\n",
       "COFFEE BEAN AND TEA LEAF       5   18.200000\n",
       "TENDER GREENS                  5  110.600000\n",
       "ONO HAWAIIAN BBQ               5   35.800000\n",
       "LE PAIN QUOTIDIEN              5   65.400000\n",
       "POPEYES CHICKEN                5   36.400000\n",
       "EDIBLE ARRANGEMENTS            5   15.600000\n",
       "SWEETFIN POKE                  5   16.000000\n",
       "CILANTRO FRESH MEXICAN GRILL   5   14.000000\n",
       "BAJA FRESH                     5   66.000000\n",
       "MENDOCINO FARMS                5   32.800000\n",
       "PARIS BAGUETTE                 5   12.800000\n",
       "HONG KONG BOWL                 5   11.600000\n",
       "JIMMY JOHN'S                   5   22.400000\n",
       "THE FLAME BROILER              5   29.400000\n",
       "I LOVE BOBA                    5   17.400000\n",
       "JUICE CRAFTERS                 4   20.750000\n",
       "DONUT KING                     4   21.500000\n",
       "WETZELS PRETZELS               4   14.000000"
      ]
     },
     "execution_count": 20,
     "metadata": {},
     "output_type": "execute_result"
    }
   ],
   "source": [
    "chain_rest = rest_data.query('chain == True').groupby('object_name').agg({'id': pd.Series.count, 'number': pd.Series.mean})\n",
    "chain_rest = chain_rest.sort_values(by='id', ascending=False)\n",
    "chain_rest.head(50)"
   ]
  },
  {
   "cell_type": "code",
   "execution_count": 21,
   "metadata": {
    "scrolled": true
   },
   "outputs": [
    {
     "data": {
      "image/png": "[encoded data removed]",
      "text/plain": [
       "<Figure size 432x432 with 3 Axes>"
      ]
     },
     "metadata": {
      "needs_background": "light"
     },
     "output_type": "display_data"
    }
   ],
   "source": [
    "p = sns.jointplot(x='id', y='number', data=chain_rest, kind='scatter')\n",
    "p.ax_joint.set_xlabel('amount of establishments', fontweight='bold')\n",
    "p.ax_joint.set_ylabel('average number of seats', fontweight='bold')\n",
    "p.fig.suptitle(\"Distribution of the number of seats and number of chain establishments\", fontweight='bold')\n",
    "p.fig.subplots_adjust(top=0.95)\n",
    "plt.show()\n",
    "\n"
   ]
  },
  {
   "cell_type": "markdown",
   "metadata": {},
   "source": [
    "On the graph, we can see that the chains in which a small number of establishments have a range of seats from 1 to more than 200. At the same time, chains in which more than 10 establishments do not have more than 100 seats and in especially large networks there are no more than 50 seats."
   ]
  },
  {
   "cell_type": "markdown",
   "metadata": {},
   "source": [
    "### 2.5. Determine the average number of seats for each type of restaurant. On average, which type of restaurant has the greatest number of seats? Plot graphs. <a id=\"average-number-of-seats\"></a>"
   ]
  },
  {
   "cell_type": "code",
   "execution_count": 22,
   "metadata": {},
   "outputs": [
    {
     "data": {
      "text/html": [
       "<div>\n",
       "<style scoped>\n",
       "    .dataframe tbody tr th:only-of-type {\n",
       "        vertical-align: middle;\n",
       "    }\n",
       "\n",
       "    .dataframe tbody tr th {\n",
       "        vertical-align: top;\n",
       "    }\n",
       "\n",
       "    .dataframe thead th {\n",
       "        text-align: right;\n",
       "    }\n",
       "</style>\n",
       "<table border=\"1\" class=\"dataframe\">\n",
       "  <thead>\n",
       "    <tr style=\"text-align: right;\">\n",
       "      <th></th>\n",
       "      <th>id</th>\n",
       "      <th>object_name</th>\n",
       "      <th>address</th>\n",
       "      <th>chain</th>\n",
       "      <th>object_type</th>\n",
       "      <th>number</th>\n",
       "    </tr>\n",
       "  </thead>\n",
       "  <tbody>\n",
       "    <tr>\n",
       "      <td>0</td>\n",
       "      <td>11786</td>\n",
       "      <td>HABITAT COFFEE SHOP</td>\n",
       "      <td>3708 N EAGLE ROCK BLVD</td>\n",
       "      <td>False</td>\n",
       "      <td>Cafe</td>\n",
       "      <td>26</td>\n",
       "    </tr>\n",
       "    <tr>\n",
       "      <td>1</td>\n",
       "      <td>11787</td>\n",
       "      <td>REILLY'S</td>\n",
       "      <td>100 WORLD WAY # 120</td>\n",
       "      <td>False</td>\n",
       "      <td>Restaurant</td>\n",
       "      <td>9</td>\n",
       "    </tr>\n",
       "    <tr>\n",
       "      <td>2</td>\n",
       "      <td>11788</td>\n",
       "      <td>STREET CHURROS</td>\n",
       "      <td>6801 HOLLYWOOD BLVD # 253</td>\n",
       "      <td>False</td>\n",
       "      <td>Fast Food</td>\n",
       "      <td>20</td>\n",
       "    </tr>\n",
       "    <tr>\n",
       "      <td>3</td>\n",
       "      <td>11789</td>\n",
       "      <td>TRINITI ECHO PARK</td>\n",
       "      <td>1814 W SUNSET BLVD</td>\n",
       "      <td>False</td>\n",
       "      <td>Restaurant</td>\n",
       "      <td>22</td>\n",
       "    </tr>\n",
       "    <tr>\n",
       "      <td>4</td>\n",
       "      <td>11790</td>\n",
       "      <td>POLLEN</td>\n",
       "      <td>2100 ECHO PARK AVE</td>\n",
       "      <td>False</td>\n",
       "      <td>Restaurant</td>\n",
       "      <td>20</td>\n",
       "    </tr>\n",
       "  </tbody>\n",
       "</table>\n",
       "</div>"
      ],
      "text/plain": [
       "      id          object_name                    address  chain object_type  \\\n",
       "0  11786  HABITAT COFFEE SHOP     3708 N EAGLE ROCK BLVD  False        Cafe   \n",
       "1  11787             REILLY'S        100 WORLD WAY # 120  False  Restaurant   \n",
       "2  11788       STREET CHURROS  6801 HOLLYWOOD BLVD # 253  False   Fast Food   \n",
       "3  11789    TRINITI ECHO PARK         1814 W SUNSET BLVD  False  Restaurant   \n",
       "4  11790               POLLEN         2100 ECHO PARK AVE  False  Restaurant   \n",
       "\n",
       "   number  \n",
       "0      26  \n",
       "1       9  \n",
       "2      20  \n",
       "3      22  \n",
       "4      20  "
      ]
     },
     "execution_count": 22,
     "metadata": {},
     "output_type": "execute_result"
    }
   ],
   "source": [
    "rest_data.head()"
   ]
  },
  {
   "cell_type": "code",
   "execution_count": 23,
   "metadata": {},
   "outputs": [
    {
     "data": {
      "text/plain": [
       "object_type\n",
       "Bakery        22.0\n",
       "Cafe          25.0\n",
       "Pizza         28.0\n",
       "Fast Food     32.0\n",
       "Bar           45.0\n",
       "Restaurant    48.0\n",
       "Name: number, dtype: float64"
      ]
     },
     "execution_count": 23,
     "metadata": {},
     "output_type": "execute_result"
    }
   ],
   "source": [
    "rest_data.groupby('object_type')['number'].mean().sort_values().round()"
   ]
  },
  {
   "cell_type": "code",
   "execution_count": 24,
   "metadata": {},
   "outputs": [
    {
     "data": {
      "image/png": "[encoded data removed]",
      "text/plain": [
       "<Figure size 432x288 with 1 Axes>"
      ]
     },
     "metadata": {
      "needs_background": "light"
     },
     "output_type": "display_data"
    }
   ],
   "source": [
    "#ploting bar chart\n",
    "rest_average_seats = rest_data.groupby('object_type')['number'].mean().sort_values().round().plot(kind='bar', title='Bar chart of the average number of seats')\n",
    "\n",
    "# create a list to collect the plt.patches data\n",
    "totals = []\n",
    "\n",
    "#find the values and append to list\n",
    "for i in rest_average_seats.patches:\n",
    "    totals.append(i.get_height())\n",
    "\n",
    "# set individual bar lables using above list\n",
    "total = sum(totals)\n",
    "\n",
    "# set individual bar lables using above list\n",
    "for i in rest_average_seats.patches:\n",
    "    # get_x pulls left or right; get_height pushes up or down\n",
    "    rest_average_seats.text(i.get_x()-.03, i.get_height()+.5, \\\n",
    "            str(int(i.get_height())), fontsize=14,\n",
    "                color='black')\n",
    "    \n",
    "plt.ylabel('amount')\n",
    "plt.show()"
   ]
  },
  {
   "cell_type": "markdown",
   "metadata": {},
   "source": [
    "On average the greatest number of seats is in the restaurants."
   ]
  },
  {
   "cell_type": "markdown",
   "metadata": {},
   "source": [
    " Bars ranked second with a similar average number of seats (45 versus 48 in restaurants). It can be assumed that this is due to the fact that people spend relatively more time in restaurants and bars and gather in companies. Fast food is in third place with a significantly lower average number of seats (32). For fast food, a smaller number of seats is enough, because mostly people come to have a quick snack or eat a business lunch, which is always limited in time. This frees up space quickly. Pizzeria performance is comparable to fast food establishments - with an average of 28 seats, for the same reasons. And besides, pizza is often ordered to take away. The smallest number of seats in cafes and bakeries - an average 25  and 22 accordingly. This is most likely due to the fact that the format of these establishments involves small premises. In addition, people often take coffee and pastries with them and they do not need a seat at all."
   ]
  },
  {
   "cell_type": "markdown",
   "metadata": {},
   "source": [
    "### 2.6. Put the data on street names from the address column in a separate column. <a id=\"street-names\"></a>"
   ]
  },
  {
   "cell_type": "code",
   "execution_count": 25,
   "metadata": {
    "scrolled": true
   },
   "outputs": [
    {
     "data": {
      "text/html": [
       "<div>\n",
       "<style scoped>\n",
       "    .dataframe tbody tr th:only-of-type {\n",
       "        vertical-align: middle;\n",
       "    }\n",
       "\n",
       "    .dataframe tbody tr th {\n",
       "        vertical-align: top;\n",
       "    }\n",
       "\n",
       "    .dataframe thead th {\n",
       "        text-align: right;\n",
       "    }\n",
       "</style>\n",
       "<table border=\"1\" class=\"dataframe\">\n",
       "  <thead>\n",
       "    <tr style=\"text-align: right;\">\n",
       "      <th></th>\n",
       "      <th>id</th>\n",
       "      <th>object_name</th>\n",
       "      <th>address</th>\n",
       "      <th>chain</th>\n",
       "      <th>object_type</th>\n",
       "      <th>number</th>\n",
       "    </tr>\n",
       "  </thead>\n",
       "  <tbody>\n",
       "    <tr>\n",
       "      <td>0</td>\n",
       "      <td>11786</td>\n",
       "      <td>HABITAT COFFEE SHOP</td>\n",
       "      <td>3708 N EAGLE ROCK BLVD</td>\n",
       "      <td>False</td>\n",
       "      <td>Cafe</td>\n",
       "      <td>26</td>\n",
       "    </tr>\n",
       "    <tr>\n",
       "      <td>1</td>\n",
       "      <td>11787</td>\n",
       "      <td>REILLY'S</td>\n",
       "      <td>100 WORLD WAY # 120</td>\n",
       "      <td>False</td>\n",
       "      <td>Restaurant</td>\n",
       "      <td>9</td>\n",
       "    </tr>\n",
       "    <tr>\n",
       "      <td>2</td>\n",
       "      <td>11788</td>\n",
       "      <td>STREET CHURROS</td>\n",
       "      <td>6801 HOLLYWOOD BLVD # 253</td>\n",
       "      <td>False</td>\n",
       "      <td>Fast Food</td>\n",
       "      <td>20</td>\n",
       "    </tr>\n",
       "    <tr>\n",
       "      <td>3</td>\n",
       "      <td>11789</td>\n",
       "      <td>TRINITI ECHO PARK</td>\n",
       "      <td>1814 W SUNSET BLVD</td>\n",
       "      <td>False</td>\n",
       "      <td>Restaurant</td>\n",
       "      <td>22</td>\n",
       "    </tr>\n",
       "    <tr>\n",
       "      <td>4</td>\n",
       "      <td>11790</td>\n",
       "      <td>POLLEN</td>\n",
       "      <td>2100 ECHO PARK AVE</td>\n",
       "      <td>False</td>\n",
       "      <td>Restaurant</td>\n",
       "      <td>20</td>\n",
       "    </tr>\n",
       "  </tbody>\n",
       "</table>\n",
       "</div>"
      ],
      "text/plain": [
       "      id          object_name                    address  chain object_type  \\\n",
       "0  11786  HABITAT COFFEE SHOP     3708 N EAGLE ROCK BLVD  False        Cafe   \n",
       "1  11787             REILLY'S        100 WORLD WAY # 120  False  Restaurant   \n",
       "2  11788       STREET CHURROS  6801 HOLLYWOOD BLVD # 253  False   Fast Food   \n",
       "3  11789    TRINITI ECHO PARK         1814 W SUNSET BLVD  False  Restaurant   \n",
       "4  11790               POLLEN         2100 ECHO PARK AVE  False  Restaurant   \n",
       "\n",
       "   number  \n",
       "0      26  \n",
       "1       9  \n",
       "2      20  \n",
       "3      22  \n",
       "4      20  "
      ]
     },
     "execution_count": 25,
     "metadata": {},
     "output_type": "execute_result"
    }
   ],
   "source": [
    "rest_data.head()"
   ]
  },
  {
   "cell_type": "code",
   "execution_count": 26,
   "metadata": {
    "scrolled": false
   },
   "outputs": [
    {
     "data": {
      "text/html": [
       "<div>\n",
       "<style scoped>\n",
       "    .dataframe tbody tr th:only-of-type {\n",
       "        vertical-align: middle;\n",
       "    }\n",
       "\n",
       "    .dataframe tbody tr th {\n",
       "        vertical-align: top;\n",
       "    }\n",
       "\n",
       "    .dataframe thead th {\n",
       "        text-align: right;\n",
       "    }\n",
       "</style>\n",
       "<table border=\"1\" class=\"dataframe\">\n",
       "  <thead>\n",
       "    <tr style=\"text-align: right;\">\n",
       "      <th></th>\n",
       "      <th>id</th>\n",
       "      <th>object_name</th>\n",
       "      <th>address</th>\n",
       "      <th>chain</th>\n",
       "      <th>object_type</th>\n",
       "      <th>number</th>\n",
       "      <th>street</th>\n",
       "    </tr>\n",
       "  </thead>\n",
       "  <tbody>\n",
       "    <tr>\n",
       "      <td>0</td>\n",
       "      <td>11786</td>\n",
       "      <td>HABITAT COFFEE SHOP</td>\n",
       "      <td>3708 N EAGLE ROCK BLVD</td>\n",
       "      <td>False</td>\n",
       "      <td>Cafe</td>\n",
       "      <td>26</td>\n",
       "      <td>N EAGLE ROCK BLVD</td>\n",
       "    </tr>\n",
       "    <tr>\n",
       "      <td>1</td>\n",
       "      <td>11787</td>\n",
       "      <td>REILLY'S</td>\n",
       "      <td>100 WORLD WAY # 120</td>\n",
       "      <td>False</td>\n",
       "      <td>Restaurant</td>\n",
       "      <td>9</td>\n",
       "      <td>WORLD WAY</td>\n",
       "    </tr>\n",
       "    <tr>\n",
       "      <td>2</td>\n",
       "      <td>11788</td>\n",
       "      <td>STREET CHURROS</td>\n",
       "      <td>6801 HOLLYWOOD BLVD # 253</td>\n",
       "      <td>False</td>\n",
       "      <td>Fast Food</td>\n",
       "      <td>20</td>\n",
       "      <td>HOLLYWOOD BLVD</td>\n",
       "    </tr>\n",
       "    <tr>\n",
       "      <td>3</td>\n",
       "      <td>11789</td>\n",
       "      <td>TRINITI ECHO PARK</td>\n",
       "      <td>1814 W SUNSET BLVD</td>\n",
       "      <td>False</td>\n",
       "      <td>Restaurant</td>\n",
       "      <td>22</td>\n",
       "      <td>W SUNSET BLVD</td>\n",
       "    </tr>\n",
       "    <tr>\n",
       "      <td>4</td>\n",
       "      <td>11790</td>\n",
       "      <td>POLLEN</td>\n",
       "      <td>2100 ECHO PARK AVE</td>\n",
       "      <td>False</td>\n",
       "      <td>Restaurant</td>\n",
       "      <td>20</td>\n",
       "      <td>ECHO PARK AVE</td>\n",
       "    </tr>\n",
       "    <tr>\n",
       "      <td>5</td>\n",
       "      <td>11791</td>\n",
       "      <td>THE SPOT GRILL</td>\n",
       "      <td>10004 NATIONAL BLVD</td>\n",
       "      <td>False</td>\n",
       "      <td>Restaurant</td>\n",
       "      <td>14</td>\n",
       "      <td>NATIONAL BLVD</td>\n",
       "    </tr>\n",
       "    <tr>\n",
       "      <td>6</td>\n",
       "      <td>11792</td>\n",
       "      <td>CPK</td>\n",
       "      <td>100 WORLD WAY # 126</td>\n",
       "      <td>False</td>\n",
       "      <td>Restaurant</td>\n",
       "      <td>100</td>\n",
       "      <td>WORLD WAY</td>\n",
       "    </tr>\n",
       "    <tr>\n",
       "      <td>7</td>\n",
       "      <td>11793</td>\n",
       "      <td>PHO LALA</td>\n",
       "      <td>3500 W 6TH ST STE 226</td>\n",
       "      <td>False</td>\n",
       "      <td>Restaurant</td>\n",
       "      <td>7</td>\n",
       "      <td>W 6TH ST STE</td>\n",
       "    </tr>\n",
       "    <tr>\n",
       "      <td>8</td>\n",
       "      <td>11794</td>\n",
       "      <td>ABC DONUTS</td>\n",
       "      <td>3027 N SAN FERNANDO RD UNIT 103</td>\n",
       "      <td>True</td>\n",
       "      <td>Fast Food</td>\n",
       "      <td>1</td>\n",
       "      <td>N SAN FERNANDO RD UNIT</td>\n",
       "    </tr>\n",
       "    <tr>\n",
       "      <td>9</td>\n",
       "      <td>11795</td>\n",
       "      <td>UPSTAIRS</td>\n",
       "      <td>3707 N CAHUENGA BLVD</td>\n",
       "      <td>False</td>\n",
       "      <td>Restaurant</td>\n",
       "      <td>35</td>\n",
       "      <td>N CAHUENGA BLVD</td>\n",
       "    </tr>\n",
       "  </tbody>\n",
       "</table>\n",
       "</div>"
      ],
      "text/plain": [
       "      id          object_name                          address  chain  \\\n",
       "0  11786  HABITAT COFFEE SHOP           3708 N EAGLE ROCK BLVD  False   \n",
       "1  11787             REILLY'S              100 WORLD WAY # 120  False   \n",
       "2  11788       STREET CHURROS        6801 HOLLYWOOD BLVD # 253  False   \n",
       "3  11789    TRINITI ECHO PARK               1814 W SUNSET BLVD  False   \n",
       "4  11790               POLLEN               2100 ECHO PARK AVE  False   \n",
       "5  11791       THE SPOT GRILL              10004 NATIONAL BLVD  False   \n",
       "6  11792                  CPK              100 WORLD WAY # 126  False   \n",
       "7  11793             PHO LALA            3500 W 6TH ST STE 226  False   \n",
       "8  11794           ABC DONUTS  3027 N SAN FERNANDO RD UNIT 103   True   \n",
       "9  11795             UPSTAIRS             3707 N CAHUENGA BLVD  False   \n",
       "\n",
       "  object_type  number                  street  \n",
       "0        Cafe      26       N EAGLE ROCK BLVD  \n",
       "1  Restaurant       9               WORLD WAY  \n",
       "2   Fast Food      20          HOLLYWOOD BLVD  \n",
       "3  Restaurant      22           W SUNSET BLVD  \n",
       "4  Restaurant      20           ECHO PARK AVE  \n",
       "5  Restaurant      14           NATIONAL BLVD  \n",
       "6  Restaurant     100               WORLD WAY  \n",
       "7  Restaurant       7            W 6TH ST STE  \n",
       "8   Fast Food       1  N SAN FERNANDO RD UNIT  \n",
       "9  Restaurant      35         N CAHUENGA BLVD  "
      ]
     },
     "execution_count": 26,
     "metadata": {},
     "output_type": "execute_result"
    }
   ],
   "source": [
    "rest_data['street'] = rest_data['address'].str.split(n=1, expand=True)[1].str.split(' #', n=1, expand=True)[0]\n",
    "\n",
    "import re\n",
    "rest_data['street'] = rest_data['street'].str.split(r' \\d+[^A-Z]', n=1, expand=True)[0]\n",
    "rest_data.head(10)"
   ]
  },
  {
   "cell_type": "code",
   "execution_count": 27,
   "metadata": {},
   "outputs": [],
   "source": [
    "# making all letters in object_name uppercase\n",
    "rest_data['street'] = rest_data['street'].str.upper()"
   ]
  },
  {
   "cell_type": "markdown",
   "metadata": {},
   "source": [
    "Now we have a new column 'street' in dataframe rest_data, which contains the name of the street."
   ]
  },
  {
   "cell_type": "markdown",
   "metadata": {},
   "source": [
    "### 2.7. Plot a graph of the top ten streets by number of restaurants. <a id=\"top-ten-streets\"></a>\n"
   ]
  },
  {
   "cell_type": "code",
   "execution_count": 28,
   "metadata": {
    "scrolled": true
   },
   "outputs": [
    {
     "data": {
      "text/html": [
       "<div>\n",
       "<style scoped>\n",
       "    .dataframe tbody tr th:only-of-type {\n",
       "        vertical-align: middle;\n",
       "    }\n",
       "\n",
       "    .dataframe tbody tr th {\n",
       "        vertical-align: top;\n",
       "    }\n",
       "\n",
       "    .dataframe thead th {\n",
       "        text-align: right;\n",
       "    }\n",
       "</style>\n",
       "<table border=\"1\" class=\"dataframe\">\n",
       "  <thead>\n",
       "    <tr style=\"text-align: right;\">\n",
       "      <th></th>\n",
       "      <th>street</th>\n",
       "      <th>id</th>\n",
       "    </tr>\n",
       "  </thead>\n",
       "  <tbody>\n",
       "    <tr>\n",
       "      <td>0</td>\n",
       "      <td>W SUNSET BLVD</td>\n",
       "      <td>320</td>\n",
       "    </tr>\n",
       "    <tr>\n",
       "      <td>1</td>\n",
       "      <td>W PICO BLVD</td>\n",
       "      <td>312</td>\n",
       "    </tr>\n",
       "    <tr>\n",
       "      <td>2</td>\n",
       "      <td>WILSHIRE BLVD</td>\n",
       "      <td>246</td>\n",
       "    </tr>\n",
       "    <tr>\n",
       "      <td>3</td>\n",
       "      <td>SANTA MONICA BLVD</td>\n",
       "      <td>211</td>\n",
       "    </tr>\n",
       "    <tr>\n",
       "      <td>4</td>\n",
       "      <td>S WESTERN AVE</td>\n",
       "      <td>205</td>\n",
       "    </tr>\n",
       "    <tr>\n",
       "      <td>5</td>\n",
       "      <td>HOLLYWOOD BLVD</td>\n",
       "      <td>204</td>\n",
       "    </tr>\n",
       "    <tr>\n",
       "      <td>6</td>\n",
       "      <td>W 3RD ST</td>\n",
       "      <td>182</td>\n",
       "    </tr>\n",
       "    <tr>\n",
       "      <td>7</td>\n",
       "      <td>S FIGUEROA ST</td>\n",
       "      <td>180</td>\n",
       "    </tr>\n",
       "    <tr>\n",
       "      <td>8</td>\n",
       "      <td>S VERMONT AVE</td>\n",
       "      <td>174</td>\n",
       "    </tr>\n",
       "    <tr>\n",
       "      <td>9</td>\n",
       "      <td>W OLYMPIC BLVD</td>\n",
       "      <td>162</td>\n",
       "    </tr>\n",
       "  </tbody>\n",
       "</table>\n",
       "</div>"
      ],
      "text/plain": [
       "              street   id\n",
       "0      W SUNSET BLVD  320\n",
       "1        W PICO BLVD  312\n",
       "2      WILSHIRE BLVD  246\n",
       "3  SANTA MONICA BLVD  211\n",
       "4      S WESTERN AVE  205\n",
       "5     HOLLYWOOD BLVD  204\n",
       "6           W 3RD ST  182\n",
       "7      S FIGUEROA ST  180\n",
       "8      S VERMONT AVE  174\n",
       "9     W OLYMPIC BLVD  162"
      ]
     },
     "execution_count": 28,
     "metadata": {},
     "output_type": "execute_result"
    }
   ],
   "source": [
    "rest_street_count = rest_data.groupby('street')['id'].count().sort_values().nlargest(10)\n",
    "rest_street_count = rest_street_count.reset_index()\n",
    "rest_street_count"
   ]
  },
  {
   "cell_type": "code",
   "execution_count": 29,
   "metadata": {
    "scrolled": true
   },
   "outputs": [
    {
     "data": {
      "image/png": "[encoded data removed]",
      "text/plain": [
       "<Figure size 432x288 with 1 Axes>"
      ]
     },
     "metadata": {
      "needs_background": "light"
     },
     "output_type": "display_data"
    }
   ],
   "source": [
    "top_ten_streets = sns.barplot(x=\"id\", y=\"street\", data=rest_street_count)\n",
    "\n",
    "top_ten_streets.set_title('Top ten streets by number of restaurants')\n",
    "plt.show()\n"
   ]
  },
  {
   "cell_type": "markdown",
   "metadata": {},
   "source": [
    "The most famous street with the largest number of establishments is W SUNSET BLVD. W PICO BLVD follows immediately. Each of them has over 300 restaurants."
   ]
  },
  {
   "cell_type": "markdown",
   "metadata": {},
   "source": [
    " The presence of a large number of establishments on the street is more dependent on the central location of the tourist area, in Hollywood. In addition, the length of the street plays a role. W SUNSET BLVD, for example, is about 35 kilometers long and runs through areas such as Beverly Hills and Hollywood, by far the largest number of establishments."
   ]
  },
  {
   "cell_type": "markdown",
   "metadata": {},
   "source": [
    "### 2.8. Find the number of streets that only have one restaurant. <a id=\"one-restaurant\"></a>"
   ]
  },
  {
   "cell_type": "code",
   "execution_count": 30,
   "metadata": {
    "scrolled": true
   },
   "outputs": [
    {
     "data": {
      "text/html": [
       "<div>\n",
       "<style scoped>\n",
       "    .dataframe tbody tr th:only-of-type {\n",
       "        vertical-align: middle;\n",
       "    }\n",
       "\n",
       "    .dataframe tbody tr th {\n",
       "        vertical-align: top;\n",
       "    }\n",
       "\n",
       "    .dataframe thead th {\n",
       "        text-align: right;\n",
       "    }\n",
       "</style>\n",
       "<table border=\"1\" class=\"dataframe\">\n",
       "  <thead>\n",
       "    <tr style=\"text-align: right;\">\n",
       "      <th></th>\n",
       "      <th>index</th>\n",
       "      <th>street</th>\n",
       "    </tr>\n",
       "  </thead>\n",
       "  <tbody>\n",
       "    <tr>\n",
       "      <td>1377</td>\n",
       "      <td>PARK TER</td>\n",
       "      <td>1</td>\n",
       "    </tr>\n",
       "    <tr>\n",
       "      <td>1378</td>\n",
       "      <td>1/2 LA BREA AVE</td>\n",
       "      <td>1</td>\n",
       "    </tr>\n",
       "    <tr>\n",
       "      <td>1379</td>\n",
       "      <td>E 2ND ST UNIT C</td>\n",
       "      <td>1</td>\n",
       "    </tr>\n",
       "    <tr>\n",
       "      <td>1380</td>\n",
       "      <td>W 6TH ST BM</td>\n",
       "      <td>1</td>\n",
       "    </tr>\n",
       "    <tr>\n",
       "      <td>1381</td>\n",
       "      <td>S FAIRFAX AVE A14</td>\n",
       "      <td>1</td>\n",
       "    </tr>\n",
       "  </tbody>\n",
       "</table>\n",
       "</div>"
      ],
      "text/plain": [
       "                  index  street\n",
       "1377           PARK TER       1\n",
       "1378    1/2 LA BREA AVE       1\n",
       "1379    E 2ND ST UNIT C       1\n",
       "1380        W 6TH ST BM       1\n",
       "1381  S FAIRFAX AVE A14       1"
      ]
     },
     "execution_count": 30,
     "metadata": {},
     "output_type": "execute_result"
    }
   ],
   "source": [
    "number_of_rest = rest_data['street'].value_counts().reset_index()\n",
    "number_of_rest.tail()"
   ]
  },
  {
   "cell_type": "code",
   "execution_count": 31,
   "metadata": {},
   "outputs": [
    {
     "name": "stdout",
     "output_type": "stream",
     "text": [
      "The number of streets that only have one restaurant: 828\n"
     ]
    }
   ],
   "source": [
    "#slicing data for the streets which have only one restaurant\n",
    "number_of_rest_one = number_of_rest.query('street == 1')['index'].count()\n",
    "print('The number of streets that only have one restaurant: {:}'.format(int(number_of_rest_one)))"
   ]
  },
  {
   "cell_type": "markdown",
   "metadata": {},
   "source": [
    "Most likely, only one establishment is located on the street, because this is either not the central street, perhaps a sleeping area, or a highway, on which there can be a maximum of a cafe at a gas station. "
   ]
  },
  {
   "cell_type": "markdown",
   "metadata": {},
   "source": [
    "### 2.9. For streets with a lot of restaurants, look at the distribution of the number of seats. What trends can you see? <a id=\"distribution-of-seats\"></a>"
   ]
  },
  {
   "cell_type": "code",
   "execution_count": 32,
   "metadata": {
    "scrolled": false
   },
   "outputs": [
    {
     "data": {
      "text/html": [
       "<div>\n",
       "<style scoped>\n",
       "    .dataframe tbody tr th:only-of-type {\n",
       "        vertical-align: middle;\n",
       "    }\n",
       "\n",
       "    .dataframe tbody tr th {\n",
       "        vertical-align: top;\n",
       "    }\n",
       "\n",
       "    .dataframe thead th {\n",
       "        text-align: right;\n",
       "    }\n",
       "</style>\n",
       "<table border=\"1\" class=\"dataframe\">\n",
       "  <thead>\n",
       "    <tr style=\"text-align: right;\">\n",
       "      <th></th>\n",
       "      <th>id</th>\n",
       "      <th>number</th>\n",
       "    </tr>\n",
       "    <tr>\n",
       "      <th>street</th>\n",
       "      <th></th>\n",
       "      <th></th>\n",
       "    </tr>\n",
       "  </thead>\n",
       "  <tbody>\n",
       "    <tr>\n",
       "      <td>W SUNSET BLVD</td>\n",
       "      <td>320</td>\n",
       "      <td>49.981250</td>\n",
       "    </tr>\n",
       "    <tr>\n",
       "      <td>W PICO BLVD</td>\n",
       "      <td>312</td>\n",
       "      <td>40.006410</td>\n",
       "    </tr>\n",
       "    <tr>\n",
       "      <td>WILSHIRE BLVD</td>\n",
       "      <td>246</td>\n",
       "      <td>54.849593</td>\n",
       "    </tr>\n",
       "    <tr>\n",
       "      <td>SANTA MONICA BLVD</td>\n",
       "      <td>211</td>\n",
       "      <td>35.127962</td>\n",
       "    </tr>\n",
       "    <tr>\n",
       "      <td>S WESTERN AVE</td>\n",
       "      <td>205</td>\n",
       "      <td>42.453659</td>\n",
       "    </tr>\n",
       "    <tr>\n",
       "      <td>HOLLYWOOD BLVD</td>\n",
       "      <td>204</td>\n",
       "      <td>57.220588</td>\n",
       "    </tr>\n",
       "    <tr>\n",
       "      <td>W 3RD ST</td>\n",
       "      <td>182</td>\n",
       "      <td>41.434066</td>\n",
       "    </tr>\n",
       "    <tr>\n",
       "      <td>S FIGUEROA ST</td>\n",
       "      <td>180</td>\n",
       "      <td>48.605556</td>\n",
       "    </tr>\n",
       "    <tr>\n",
       "      <td>S VERMONT AVE</td>\n",
       "      <td>174</td>\n",
       "      <td>45.218391</td>\n",
       "    </tr>\n",
       "    <tr>\n",
       "      <td>W OLYMPIC BLVD</td>\n",
       "      <td>162</td>\n",
       "      <td>53.432099</td>\n",
       "    </tr>\n",
       "  </tbody>\n",
       "</table>\n",
       "</div>"
      ],
      "text/plain": [
       "                    id     number\n",
       "street                           \n",
       "W SUNSET BLVD      320  49.981250\n",
       "W PICO BLVD        312  40.006410\n",
       "WILSHIRE BLVD      246  54.849593\n",
       "SANTA MONICA BLVD  211  35.127962\n",
       "S WESTERN AVE      205  42.453659\n",
       "HOLLYWOOD BLVD     204  57.220588\n",
       "W 3RD ST           182  41.434066\n",
       "S FIGUEROA ST      180  48.605556\n",
       "S VERMONT AVE      174  45.218391\n",
       "W OLYMPIC BLVD     162  53.432099"
      ]
     },
     "execution_count": 32,
     "metadata": {},
     "output_type": "execute_result"
    }
   ],
   "source": [
    "#counting number of restaurants by the street and average numbeer of seats\n",
    "destribution_number_of_seats = rest_data.groupby('street').agg(\n",
    "    {'id': 'count', 'number': 'mean'}\n",
    ")\n",
    "destribution_number_of_seats_top_ten = destribution_number_of_seats.sort_values(by='id', ascending=False).head(10)\n",
    "destribution_number_of_seats_top_ten"
   ]
  },
  {
   "cell_type": "code",
   "execution_count": 33,
   "metadata": {},
   "outputs": [
    {
     "data": {
      "text/plain": [
       "46.8329573669184"
      ]
     },
     "execution_count": 33,
     "metadata": {},
     "output_type": "execute_result"
    }
   ],
   "source": [
    "destribution_number_of_seats_top_ten['number'].mean()"
   ]
  },
  {
   "cell_type": "code",
   "execution_count": 34,
   "metadata": {
    "scrolled": true
   },
   "outputs": [
    {
     "data": {
      "image/png": "[encoded data removed]",
      "text/plain": [
       "<Figure size 432x432 with 3 Axes>"
      ]
     },
     "metadata": {
      "needs_background": "light"
     },
     "output_type": "display_data"
    }
   ],
   "source": [
    "h = sns.jointplot(x=\"id\", y=\"number\", data=destribution_number_of_seats_top_ten)\n",
    "h.ax_joint.set_xlabel('number of restaurants', fontweight='bold')\n",
    "h.ax_joint.set_ylabel('average number of seats', fontweight='bold')\n",
    "h.fig.suptitle(\"Distribution of the number of seats and number of restaurants\", fontweight='bold')\n",
    "h.fig.subplots_adjust(top=0.95)\n",
    "plt.show()"
   ]
  },
  {
   "cell_type": "markdown",
   "metadata": {},
   "source": [
    "On the streets with the largest number of restaurants (320 and 312), there are on average 50 and 40 seats, respectively. On streets with fewer restaurants - from 160 to 260, the average number of seats in an establishment varies from 35 to 55. \n",
    "\n",
    "In general, we can conclude that the number of seats on the streets with the largest number of establishments on average varies from 40 to 50."
   ]
  },
  {
   "cell_type": "markdown",
   "metadata": {},
   "source": [
    "## Step 3. General conclusion <a id=\"third-step\"></a>"
   ]
  },
  {
   "cell_type": "markdown",
   "metadata": {},
   "source": [
    "Restaurants are the main type among all establishments, their share is more than 75 percent. \n",
    "\n",
    "In addition, the share of non-chain establishments is significantly higher than chain ones. \n",
    "\n",
    "Besides there is a tendency: the larger the chain, the fewer seats in each individual establishment of this chain. \n",
    "\n",
    "On average, the largest number of seats is again in restaurants. \n",
    "\n",
    "The study showed that the most popular streets in Los Angeles are W SUNSET BLVD and W PICO BLVD. \n",
    "\n",
    "At the same time, there is a fairly large number of streets with only 1 restaurant (828).\n",
    "\n",
    "In terms of the number of seats on average, the most popular streets range from 40 to 50. \n",
    "\n",
    "On the one hand, the popular streets are likely to be the most visited. But at the same time, there is enormous competition. Perhaps it should take a closer look at streets with a small number of restaurants, but at the same time learn from the experience of \"successful\" streets, namely, a non-chain establishment with 40 to 50 seats.\n",
    "\n",
    "As a result of the analysis, the general recommendation is to pay attention to the following format of the establishment: \n",
    "- a small non-chain restaurant, \n",
    "- the number of seats is not more than 50, \n",
    "- on the street where there is no large concentration of restaurants."
   ]
  },
  {
   "cell_type": "markdown",
   "metadata": {},
   "source": [
    "Presentation: https://drive.google.com/file/d/1aNZBMk8NMyufnSe_F-ET-qthXFqk9OCo/view?usp=sharing"
   ]
  }
 ],
 "metadata": {
  "kernelspec": {
   "display_name": "Python 3",
   "language": "python",
   "name": "python3"
  },
  "language_info": {
   "codemirror_mode": {
    "name": "ipython",
    "version": 3
   },
   "file_extension": ".py",
   "mimetype": "text/x-python",
   "name": "python",
   "nbconvert_exporter": "python",
   "pygments_lexer": "ipython3",
   "version": "3.8.8"
  },
  "toc": {
   "base_numbering": 1,
   "nav_menu": {},
   "number_sections": false,
   "sideBar": true,
   "skip_h1_title": true,
   "title_cell": "Table of Contents",
   "title_sidebar": "Contents",
   "toc_cell": false,
   "toc_position": {},
   "toc_section_display": true,
   "toc_window_display": true
  }
 },
 "nbformat": 4,
 "nbformat_minor": 2
}
